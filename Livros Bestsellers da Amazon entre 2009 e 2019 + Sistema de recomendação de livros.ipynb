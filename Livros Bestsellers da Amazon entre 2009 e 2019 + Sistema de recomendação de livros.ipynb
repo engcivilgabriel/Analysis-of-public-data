{
  "nbformat": 4,
  "nbformat_minor": 0,
  "metadata": {
    "colab": {
      "name": "Amazon Top 50 Bestselling Books 2009 - 2019.ipynb",
      "provenance": [],
      "collapsed_sections": [],
      "toc_visible": true,
      "authorship_tag": "ABX9TyOK1J3oBYcxUItIhPCLEDVI",
      "include_colab_link": true
    },
    "kernelspec": {
      "name": "python3",
      "display_name": "Python 3"
    }
  },
  "cells": [
    {
      "cell_type": "markdown",
      "metadata": {
        "id": "view-in-github",
        "colab_type": "text"
      },
      "source": [
        "<a href=\"https://colab.research.google.com/github/engcivilgabriel/Analysis-of-public-data/blob/master/Livros%20Bestsellers%20da%20Amazon%20entre%202009%20e%202019%20%2B%20Sistema%20de%20recomenda%C3%A7%C3%A3o%20de%20livros.ipynb\" target=\"_parent\"><img src=\"https://colab.research.google.com/assets/colab-badge.svg\" alt=\"Open In Colab\"/></a>"
      ]
    },
    {
      "cell_type": "markdown",
      "metadata": {
        "id": "9WznZDyU52a1"
      },
      "source": [
        "#**OS 50 LIVROS MAIS VENDIDOS DA AMAZON ENTRE 2009 E 2019**"
      ]
    },
    {
      "cell_type": "markdown",
      "metadata": {
        "id": "PzzqR59f8VXN"
      },
      "source": [
        "<center><img alt=\"Amazon\" width=\"60%\" src=\"https://i0.wp.com/www.6sigmacertificationonline.com/wp-content/uploads/2017/10/amazon-logo-copy-800x258.png\n",
        "\"></center>"
      ]
    },
    {
      "cell_type": "markdown",
      "metadata": {
        "id": "9FdCThsG6TGO"
      },
      "source": [
        "Amazon.com, Inc. é uma empresa multinacional de tecnologia norte-americana com sede em Seattle, Washington. A companhia se concentra no e-commerce, computação em nuvem, streaming e inteligência artificial. É considerada uma das cinco grandes empresas de tecnologia, juntamente com Google, Apple, Microsoft e Facebook. Foi referida como \"uma das forças econômicas e culturais mais influentes do mundo\" e a marca mais valiosa do mundo.\n",
        "\n",
        "Fundada por Jeff Bezos em Bellevue, Washington, em 5 de julho de 1994, a empresa começou como um mercado online de livros, mas expandiu-se para vender eletrônicos, software, videogames, vestuário, móveis, alimentos, brinquedos e joias. Em 2015, a Amazon superou o Walmart como o varejista mais valioso dos Estados Unidos por capitalização de mercado. Em 2017, a Amazon adquiriu o Whole Foods Market por US$13,4 bilhões, aumentando substancialmente sua presença como varejista física. Em 2018, a companhia anunciou que o seu serviço de entrega em dois dias, o Amazon Prime, havia ultrapassado 100 milhões de assinantes em todo o mundo.\n",
        "\n",
        "**`Fonte: Wikipédia, a enciclopédia livre.`**"
      ]
    },
    {
      "cell_type": "markdown",
      "metadata": {
        "id": "koSCLx2p9NwG"
      },
      "source": [
        "##O Projeto"
      ]
    },
    {
      "cell_type": "markdown",
      "metadata": {
        "id": "YWCk9PQ192rd"
      },
      "source": [
        "> O objetivo deste projeto é analisar e buscar insights sobre os livros mais vendidos pela Amazon entre os anos de 2009 e 2019, **criar um sistema de recomendação de livros baseados nos dados apresentados**, bem como buscar meios de melhor visualizar estes dados.\n",
        "\n",
        "Utilizando dados disponibilizados no [Kaggle]('https://kaggle.com/'), construiremos um modelo de Machine Learning capaz de nos ajudar a prever possíveis recomendações, que podem ajudar consumidores a tomarem decisões afim de potencializar suas leituras e aumentar a qualidade de suas vidas por gastarem menos tempo em busca de novos livros."
      ]
    },
    {
      "cell_type": "code",
      "metadata": {
        "cellView": "form",
        "id": "K0NBeOYM5wnl"
      },
      "source": [
        "#@title\n",
        "# hide warnings\n",
        "from warnings import simplefilter\n",
        "simplefilter(action='ignore', category=FutureWarning)\n",
        "\n",
        "# installing scikit-plot\n",
        "!pip install -q scikit-plot"
      ],
      "execution_count": 116,
      "outputs": []
    },
    {
      "cell_type": "code",
      "metadata": {
        "id": "PDOozj4Y_zI1"
      },
      "source": [
        "# importando os pacotes necessários\n",
        "import numpy as np\n",
        "import pandas as pd\n",
        "import matplotlib.pyplot as plt\n",
        "import scikitplot as skplt\n",
        "import seaborn as sns\n",
        "import warnings\n",
        "warnings.filterwarnings(\"ignore\")\n",
        "\n",
        "%matplotlib inline"
      ],
      "execution_count": 117,
      "outputs": []
    },
    {
      "cell_type": "markdown",
      "metadata": {
        "id": "0UlWwd_ACBEd"
      },
      "source": [
        "## Origem dos dados\n",
        "O presente Dataset foi confeccionado por Sooter Saalu através de webscrapping dos sites da da Amazon e Gooreads em Outubro de 2020. Foram levantados 550 livros e os dados foram categorizados em ficção e não ficção. \n",
        "\n",
        "O arquivo para download pode ser localizado em: https://www.kaggle.com/sootersaalu/amazon-top-50-bestselling-books-2009-2019\n",
        "\n"
      ]
    },
    {
      "cell_type": "markdown",
      "metadata": {
        "id": "esXA_vq9iiPg"
      },
      "source": [
        "A seguir podemos ver como foi feita a disposição dos dados, bem como averiguar as 5 primeiras linhas do dataset."
      ]
    },
    {
      "cell_type": "code",
      "metadata": {
        "colab": {
          "base_uri": "https://localhost:8080/",
          "height": 195
        },
        "id": "kXu_p9JdBBoX",
        "outputId": "05d4e55d-6dd9-4f4a-9e1e-f5e2ea01a0cf"
      },
      "source": [
        "# importando os dados\n",
        "df = pd.read_csv('https://raw.githubusercontent.com/engcivilgabriel/Analysis-of-public-data/master/CSV/bestsellers%20with%20categories.csv', engine='python')\n",
        "df.head()"
      ],
      "execution_count": 118,
      "outputs": [
        {
          "output_type": "execute_result",
          "data": {
            "text/html": [
              "<div>\n",
              "<style scoped>\n",
              "    .dataframe tbody tr th:only-of-type {\n",
              "        vertical-align: middle;\n",
              "    }\n",
              "\n",
              "    .dataframe tbody tr th {\n",
              "        vertical-align: top;\n",
              "    }\n",
              "\n",
              "    .dataframe thead th {\n",
              "        text-align: right;\n",
              "    }\n",
              "</style>\n",
              "<table border=\"1\" class=\"dataframe\">\n",
              "  <thead>\n",
              "    <tr style=\"text-align: right;\">\n",
              "      <th></th>\n",
              "      <th>Name</th>\n",
              "      <th>Author</th>\n",
              "      <th>User Rating</th>\n",
              "      <th>Reviews</th>\n",
              "      <th>Price</th>\n",
              "      <th>Year</th>\n",
              "      <th>Genre</th>\n",
              "    </tr>\n",
              "  </thead>\n",
              "  <tbody>\n",
              "    <tr>\n",
              "      <th>0</th>\n",
              "      <td>10-Day Green Smoothie Cleanse</td>\n",
              "      <td>JJ Smith</td>\n",
              "      <td>4.7</td>\n",
              "      <td>17350</td>\n",
              "      <td>8</td>\n",
              "      <td>2016</td>\n",
              "      <td>Non Fiction</td>\n",
              "    </tr>\n",
              "    <tr>\n",
              "      <th>1</th>\n",
              "      <td>11/22/63: A Novel</td>\n",
              "      <td>Stephen King</td>\n",
              "      <td>4.6</td>\n",
              "      <td>2052</td>\n",
              "      <td>22</td>\n",
              "      <td>2011</td>\n",
              "      <td>Fiction</td>\n",
              "    </tr>\n",
              "    <tr>\n",
              "      <th>2</th>\n",
              "      <td>12 Rules for Life: An Antidote to Chaos</td>\n",
              "      <td>Jordan B. Peterson</td>\n",
              "      <td>4.7</td>\n",
              "      <td>18979</td>\n",
              "      <td>15</td>\n",
              "      <td>2018</td>\n",
              "      <td>Non Fiction</td>\n",
              "    </tr>\n",
              "    <tr>\n",
              "      <th>3</th>\n",
              "      <td>1984 (Signet Classics)</td>\n",
              "      <td>George Orwell</td>\n",
              "      <td>4.7</td>\n",
              "      <td>21424</td>\n",
              "      <td>6</td>\n",
              "      <td>2017</td>\n",
              "      <td>Fiction</td>\n",
              "    </tr>\n",
              "    <tr>\n",
              "      <th>4</th>\n",
              "      <td>5,000 Awesome Facts (About Everything!) (Natio...</td>\n",
              "      <td>National Geographic Kids</td>\n",
              "      <td>4.8</td>\n",
              "      <td>7665</td>\n",
              "      <td>12</td>\n",
              "      <td>2019</td>\n",
              "      <td>Non Fiction</td>\n",
              "    </tr>\n",
              "  </tbody>\n",
              "</table>\n",
              "</div>"
            ],
            "text/plain": [
              "                                                Name  ...        Genre\n",
              "0                      10-Day Green Smoothie Cleanse  ...  Non Fiction\n",
              "1                                  11/22/63: A Novel  ...      Fiction\n",
              "2            12 Rules for Life: An Antidote to Chaos  ...  Non Fiction\n",
              "3                             1984 (Signet Classics)  ...      Fiction\n",
              "4  5,000 Awesome Facts (About Everything!) (Natio...  ...  Non Fiction\n",
              "\n",
              "[5 rows x 7 columns]"
            ]
          },
          "metadata": {
            "tags": []
          },
          "execution_count": 118
        }
      ]
    },
    {
      "cell_type": "markdown",
      "metadata": {
        "id": "aKZcQUfGj9Yr"
      },
      "source": [
        "Então, dividiu-se as informações entre o nome dos livros, seu respectivo autor, a avaliação dos usuários, quantos reviews ele apresenta, seu preço, o ano da sua edição e seu respectivo gênero literário."
      ]
    },
    {
      "cell_type": "markdown",
      "metadata": {
        "id": "2cCntMc6CJbV"
      },
      "source": [
        "##Análise exploratória dos dados"
      ]
    },
    {
      "cell_type": "markdown",
      "metadata": {
        "id": "z2tANKlxictA"
      },
      "source": [
        "Com esta noção de como foi feito o dataset, vamos agora entender suas características. Para isso, analisaremos as informações pertinentes às suas variáveis:"
      ]
    },
    {
      "cell_type": "code",
      "metadata": {
        "colab": {
          "base_uri": "https://localhost:8080/"
        },
        "id": "7S7LT1qzEkOe",
        "outputId": "b1e9d8d3-0000-4ab1-b3d8-248beee1cddc"
      },
      "source": [
        "df.info()"
      ],
      "execution_count": 119,
      "outputs": [
        {
          "output_type": "stream",
          "text": [
            "<class 'pandas.core.frame.DataFrame'>\n",
            "RangeIndex: 550 entries, 0 to 549\n",
            "Data columns (total 7 columns):\n",
            " #   Column       Non-Null Count  Dtype  \n",
            "---  ------       --------------  -----  \n",
            " 0   Name         550 non-null    object \n",
            " 1   Author       550 non-null    object \n",
            " 2   User Rating  550 non-null    float64\n",
            " 3   Reviews      550 non-null    int64  \n",
            " 4   Price        550 non-null    int64  \n",
            " 5   Year         550 non-null    int64  \n",
            " 6   Genre        550 non-null    object \n",
            "dtypes: float64(1), int64(3), object(3)\n",
            "memory usage: 30.2+ KB\n"
          ],
          "name": "stdout"
        }
      ]
    },
    {
      "cell_type": "markdown",
      "metadata": {
        "id": "K1jNRu_gjP5w"
      },
      "source": [
        "Percebe-se que o dataset apresenta 550 linhas e 7 colunas, bem como não apresenta ausência de informações para nenhuma variável, o que é o ideal. Agora, em relação à divisão entre os gêneros literários, podemos averiguar a seguinte divisão:"
      ]
    },
    {
      "cell_type": "markdown",
      "metadata": {
        "id": "zeMsVPPJnMQu"
      },
      "source": [
        "###Por gênero literário"
      ]
    },
    {
      "cell_type": "code",
      "metadata": {
        "colab": {
          "base_uri": "https://localhost:8080/"
        },
        "id": "Vr_HPke7Eq9v",
        "outputId": "a77ae5e0-4414-4a02-9706-6160e82fb99c"
      },
      "source": [
        "df['Genre'].value_counts()"
      ],
      "execution_count": 120,
      "outputs": [
        {
          "output_type": "execute_result",
          "data": {
            "text/plain": [
              "Non Fiction    310\n",
              "Fiction        240\n",
              "Name: Genre, dtype: int64"
            ]
          },
          "metadata": {
            "tags": []
          },
          "execution_count": 120
        }
      ]
    },
    {
      "cell_type": "markdown",
      "metadata": {
        "id": "wS9qH_ckkn2A"
      },
      "source": [
        "Ou seja, em termos percentuais, tem-se:"
      ]
    },
    {
      "cell_type": "code",
      "metadata": {
        "colab": {
          "base_uri": "https://localhost:8080/"
        },
        "id": "7FTsJoyKEux1",
        "outputId": "0e742522-7e5d-4e7e-c968-f7874767acfb"
      },
      "source": [
        "df['Genre'].value_counts(normalize=True)"
      ],
      "execution_count": 121,
      "outputs": [
        {
          "output_type": "execute_result",
          "data": {
            "text/plain": [
              "Non Fiction    0.563636\n",
              "Fiction        0.436364\n",
              "Name: Genre, dtype: float64"
            ]
          },
          "metadata": {
            "tags": []
          },
          "execution_count": 121
        }
      ]
    },
    {
      "cell_type": "markdown",
      "metadata": {
        "id": "-FqEQcDSE3BS"
      },
      "source": [
        "Portanto, existem mais livros de **não ficção** nas classificações de bestsellers, o que **corresponde a cerca de 56% do conjunto de dados**."
      ]
    },
    {
      "cell_type": "markdown",
      "metadata": {
        "id": "t7bFNB40E4CO"
      },
      "source": [
        "###Por classificação pelos leitores"
      ]
    },
    {
      "cell_type": "markdown",
      "metadata": {
        "id": "s84lzKDCnGCv"
      },
      "source": [
        "Analisando agora a classificação dada pelos leitores, objetivando iniciar a filtragem dos livros mais relevantes para esta análise e considerando àqueles livros que tiveram mais de 3.000 avaliações, pode-se extrair as seguintes informações:"
      ]
    },
    {
      "cell_type": "code",
      "metadata": {
        "colab": {
          "base_uri": "https://localhost:8080/",
          "height": 639
        },
        "id": "DUYyAPJvFA3G",
        "outputId": "50ffe3e9-bc80-42d1-dfc6-a5eee6e996d5"
      },
      "source": [
        "# Livros com melhor classificação (Recebido por pelo menos 3000 pessoas)\n",
        "data_order = df.groupby(['Name', 'Author', 'Genre'], as_index=False)[['User Rating', 'Reviews']].mean()\n",
        "data_order = data_order[data_order['Reviews']>3000]\n",
        "data_order = data_order.sort_values('User Rating', ascending=False).head(20)\n",
        "data_order"
      ],
      "execution_count": 122,
      "outputs": [
        {
          "output_type": "execute_result",
          "data": {
            "text/html": [
              "<div>\n",
              "<style scoped>\n",
              "    .dataframe tbody tr th:only-of-type {\n",
              "        vertical-align: middle;\n",
              "    }\n",
              "\n",
              "    .dataframe tbody tr th {\n",
              "        vertical-align: top;\n",
              "    }\n",
              "\n",
              "    .dataframe thead th {\n",
              "        text-align: right;\n",
              "    }\n",
              "</style>\n",
              "<table border=\"1\" class=\"dataframe\">\n",
              "  <thead>\n",
              "    <tr style=\"text-align: right;\">\n",
              "      <th></th>\n",
              "      <th>Name</th>\n",
              "      <th>Author</th>\n",
              "      <th>Genre</th>\n",
              "      <th>User Rating</th>\n",
              "      <th>Reviews</th>\n",
              "    </tr>\n",
              "  </thead>\n",
              "  <tbody>\n",
              "    <tr>\n",
              "      <th>177</th>\n",
              "      <td>Obama: An Intimate Portrait</td>\n",
              "      <td>Pete Souza</td>\n",
              "      <td>Non Fiction</td>\n",
              "      <td>4.9</td>\n",
              "      <td>3192.0</td>\n",
              "    </tr>\n",
              "    <tr>\n",
              "      <th>71</th>\n",
              "      <td>Dog Man: Lord of the Fleas: From the Creator o...</td>\n",
              "      <td>Dav Pilkey</td>\n",
              "      <td>Fiction</td>\n",
              "      <td>4.9</td>\n",
              "      <td>5470.0</td>\n",
              "    </tr>\n",
              "    <tr>\n",
              "      <th>118</th>\n",
              "      <td>Harry Potter and the Goblet of Fire: The Illus...</td>\n",
              "      <td>J. K. Rowling</td>\n",
              "      <td>Fiction</td>\n",
              "      <td>4.9</td>\n",
              "      <td>7758.0</td>\n",
              "    </tr>\n",
              "    <tr>\n",
              "      <th>119</th>\n",
              "      <td>Harry Potter and the Prisoner of Azkaban: The ...</td>\n",
              "      <td>J.K. Rowling</td>\n",
              "      <td>Fiction</td>\n",
              "      <td>4.9</td>\n",
              "      <td>3146.0</td>\n",
              "    </tr>\n",
              "    <tr>\n",
              "      <th>120</th>\n",
              "      <td>Harry Potter and the Sorcerer's Stone: The Ill...</td>\n",
              "      <td>J.K. Rowling</td>\n",
              "      <td>Fiction</td>\n",
              "      <td>4.9</td>\n",
              "      <td>10052.0</td>\n",
              "    </tr>\n",
              "    <tr>\n",
              "      <th>112</th>\n",
              "      <td>Hamilton: The Revolution</td>\n",
              "      <td>Lin-Manuel Miranda</td>\n",
              "      <td>Non Fiction</td>\n",
              "      <td>4.9</td>\n",
              "      <td>5867.0</td>\n",
              "    </tr>\n",
              "    <tr>\n",
              "      <th>108</th>\n",
              "      <td>Goodnight, Goodnight Construction Site (Hardco...</td>\n",
              "      <td>Sherri Duskey Rinker</td>\n",
              "      <td>Fiction</td>\n",
              "      <td>4.9</td>\n",
              "      <td>7038.0</td>\n",
              "    </tr>\n",
              "    <tr>\n",
              "      <th>66</th>\n",
              "      <td>Dog Man and Cat Kid: From the Creator of Capta...</td>\n",
              "      <td>Dav Pilkey</td>\n",
              "      <td>Fiction</td>\n",
              "      <td>4.9</td>\n",
              "      <td>5062.0</td>\n",
              "    </tr>\n",
              "    <tr>\n",
              "      <th>36</th>\n",
              "      <td>Brown Bear, Brown Bear, What Do You See?</td>\n",
              "      <td>Bill Martin Jr.</td>\n",
              "      <td>Fiction</td>\n",
              "      <td>4.9</td>\n",
              "      <td>14344.0</td>\n",
              "    </tr>\n",
              "    <tr>\n",
              "      <th>312</th>\n",
              "      <td>The Wonderful Things You Will Be</td>\n",
              "      <td>Emily Winfield Martin</td>\n",
              "      <td>Fiction</td>\n",
              "      <td>4.9</td>\n",
              "      <td>8842.0</td>\n",
              "    </tr>\n",
              "    <tr>\n",
              "      <th>67</th>\n",
              "      <td>Dog Man: A Tale of Two Kitties: From the Creat...</td>\n",
              "      <td>Dav Pilkey</td>\n",
              "      <td>Fiction</td>\n",
              "      <td>4.9</td>\n",
              "      <td>4786.0</td>\n",
              "    </tr>\n",
              "    <tr>\n",
              "      <th>208</th>\n",
              "      <td>Strange Planet (Strange Planet Series)</td>\n",
              "      <td>Nathan W. Pyle</td>\n",
              "      <td>Fiction</td>\n",
              "      <td>4.9</td>\n",
              "      <td>9382.0</td>\n",
              "    </tr>\n",
              "    <tr>\n",
              "      <th>68</th>\n",
              "      <td>Dog Man: Brawl of the Wild: From the Creator o...</td>\n",
              "      <td>Dav Pilkey</td>\n",
              "      <td>Fiction</td>\n",
              "      <td>4.9</td>\n",
              "      <td>7235.0</td>\n",
              "    </tr>\n",
              "    <tr>\n",
              "      <th>69</th>\n",
              "      <td>Dog Man: Fetch-22: From the Creator of Captain...</td>\n",
              "      <td>Dav Pilkey</td>\n",
              "      <td>Fiction</td>\n",
              "      <td>4.9</td>\n",
              "      <td>12619.0</td>\n",
              "    </tr>\n",
              "    <tr>\n",
              "      <th>70</th>\n",
              "      <td>Dog Man: For Whom the Ball Rolls: From the Cre...</td>\n",
              "      <td>Dav Pilkey</td>\n",
              "      <td>Fiction</td>\n",
              "      <td>4.9</td>\n",
              "      <td>9089.0</td>\n",
              "    </tr>\n",
              "    <tr>\n",
              "      <th>116</th>\n",
              "      <td>Harry Potter and the Chamber of Secrets: The I...</td>\n",
              "      <td>J.K. Rowling</td>\n",
              "      <td>Fiction</td>\n",
              "      <td>4.9</td>\n",
              "      <td>19622.0</td>\n",
              "    </tr>\n",
              "    <tr>\n",
              "      <th>197</th>\n",
              "      <td>Rush Revere and the First Patriots: Time-Trave...</td>\n",
              "      <td>Rush Limbaugh</td>\n",
              "      <td>Fiction</td>\n",
              "      <td>4.9</td>\n",
              "      <td>3836.0</td>\n",
              "    </tr>\n",
              "    <tr>\n",
              "      <th>349</th>\n",
              "      <td>Wrecking Ball (Diary of a Wimpy Kid Book 14)</td>\n",
              "      <td>Jeff Kinney</td>\n",
              "      <td>Fiction</td>\n",
              "      <td>4.9</td>\n",
              "      <td>9413.0</td>\n",
              "    </tr>\n",
              "    <tr>\n",
              "      <th>196</th>\n",
              "      <td>Rush Revere and the Brave Pilgrims: Time-Trave...</td>\n",
              "      <td>Rush Limbaugh</td>\n",
              "      <td>Fiction</td>\n",
              "      <td>4.9</td>\n",
              "      <td>7150.0</td>\n",
              "    </tr>\n",
              "    <tr>\n",
              "      <th>267</th>\n",
              "      <td>The Legend of Zelda: Hyrule Historia</td>\n",
              "      <td>Patrick Thorpe</td>\n",
              "      <td>Fiction</td>\n",
              "      <td>4.9</td>\n",
              "      <td>5396.0</td>\n",
              "    </tr>\n",
              "  </tbody>\n",
              "</table>\n",
              "</div>"
            ],
            "text/plain": [
              "                                                  Name  ...  Reviews\n",
              "177                        Obama: An Intimate Portrait  ...   3192.0\n",
              "71   Dog Man: Lord of the Fleas: From the Creator o...  ...   5470.0\n",
              "118  Harry Potter and the Goblet of Fire: The Illus...  ...   7758.0\n",
              "119  Harry Potter and the Prisoner of Azkaban: The ...  ...   3146.0\n",
              "120  Harry Potter and the Sorcerer's Stone: The Ill...  ...  10052.0\n",
              "112                           Hamilton: The Revolution  ...   5867.0\n",
              "108  Goodnight, Goodnight Construction Site (Hardco...  ...   7038.0\n",
              "66   Dog Man and Cat Kid: From the Creator of Capta...  ...   5062.0\n",
              "36            Brown Bear, Brown Bear, What Do You See?  ...  14344.0\n",
              "312                   The Wonderful Things You Will Be  ...   8842.0\n",
              "67   Dog Man: A Tale of Two Kitties: From the Creat...  ...   4786.0\n",
              "208             Strange Planet (Strange Planet Series)  ...   9382.0\n",
              "68   Dog Man: Brawl of the Wild: From the Creator o...  ...   7235.0\n",
              "69   Dog Man: Fetch-22: From the Creator of Captain...  ...  12619.0\n",
              "70   Dog Man: For Whom the Ball Rolls: From the Cre...  ...   9089.0\n",
              "116  Harry Potter and the Chamber of Secrets: The I...  ...  19622.0\n",
              "197  Rush Revere and the First Patriots: Time-Trave...  ...   3836.0\n",
              "349       Wrecking Ball (Diary of a Wimpy Kid Book 14)  ...   9413.0\n",
              "196  Rush Revere and the Brave Pilgrims: Time-Trave...  ...   7150.0\n",
              "267               The Legend of Zelda: Hyrule Historia  ...   5396.0\n",
              "\n",
              "[20 rows x 5 columns]"
            ]
          },
          "metadata": {
            "tags": []
          },
          "execution_count": 122
        }
      ]
    },
    {
      "cell_type": "markdown",
      "metadata": {
        "id": "rxGSqmsiFUV2"
      },
      "source": [
        "O ranking por classificação fornece um número relativamente alto de classificações máximas (4.9). No entanto, podemos ver diferenças significativas no número de resenhas, com alguns livros tendo pouco mais de 3.000 resenhas enquanto alguns têm cerca de 20.000.\n",
        "\n",
        "Assim, uma avaliação ponderada, que leva em consideração o número de resenhas, será a melhor opção para esta classificação."
      ]
    },
    {
      "cell_type": "markdown",
      "metadata": {
        "id": "KUjX3WtEFeQ2"
      },
      "source": [
        "$$Classificação Ponderada(CP)=(\\frac{r}{(r+m)}*M) + (\\frac{m}{(r+m)}*C)$$"
      ]
    },
    {
      "cell_type": "markdown",
      "metadata": {
        "id": "KnahoY_CIQCv"
      },
      "source": [
        "Onde:\n",
        "\n",
        "*   M = classificação média do livro\n",
        "*   r = número de resenhas do livro\n",
        "*   m = avaliações mínimas exigidas para entrar na lista dos mais vendidos\n",
        "*   C = a classificação média no conjunto de dados"
      ]
    },
    {
      "cell_type": "code",
      "metadata": {
        "id": "LusP4M01HK1-"
      },
      "source": [
        "# Avaliação Ponderada\n",
        "m = min(df['Reviews'])\n",
        "C = df['User Rating'].mean()\n",
        "def weighted_rating(x, m=m, C=C):\n",
        "    r = x['Reviews']\n",
        "    M = x['User Rating']\n",
        "    return (r/(r+m) * M) + (m/(m+r) * C)"
      ],
      "execution_count": 123,
      "outputs": []
    },
    {
      "cell_type": "markdown",
      "metadata": {
        "id": "jPtBCZMxs96T"
      },
      "source": [
        "Vamos aplicar esta avaliação no dataset:"
      ]
    },
    {
      "cell_type": "code",
      "metadata": {
        "id": "T9GcpKDxIW8I"
      },
      "source": [
        "df['Weighted Rating'] = df.apply(weighted_rating, axis=1)"
      ],
      "execution_count": 124,
      "outputs": []
    },
    {
      "cell_type": "markdown",
      "metadata": {
        "id": "G2-_4kFJtCwo"
      },
      "source": [
        "E, agora, vamos classificar as linhas por ordem decrescente da classificação ponderada:"
      ]
    },
    {
      "cell_type": "code",
      "metadata": {
        "colab": {
          "base_uri": "https://localhost:8080/",
          "height": 343
        },
        "id": "KPxVT7pTIZJ-",
        "outputId": "910ac6bd-e547-4db1-cc84-bcd59e9d986a"
      },
      "source": [
        "df.groupby(['Name','Author','Genre'], as_index=False)[['User Rating', 'Reviews', 'Weighted Rating']].mean().sort_values(by='Weighted Rating', ascending=False).head(10)"
      ],
      "execution_count": 125,
      "outputs": [
        {
          "output_type": "execute_result",
          "data": {
            "text/html": [
              "<div>\n",
              "<style scoped>\n",
              "    .dataframe tbody tr th:only-of-type {\n",
              "        vertical-align: middle;\n",
              "    }\n",
              "\n",
              "    .dataframe tbody tr th {\n",
              "        vertical-align: top;\n",
              "    }\n",
              "\n",
              "    .dataframe thead th {\n",
              "        text-align: right;\n",
              "    }\n",
              "</style>\n",
              "<table border=\"1\" class=\"dataframe\">\n",
              "  <thead>\n",
              "    <tr style=\"text-align: right;\">\n",
              "      <th></th>\n",
              "      <th>Name</th>\n",
              "      <th>Author</th>\n",
              "      <th>Genre</th>\n",
              "      <th>User Rating</th>\n",
              "      <th>Reviews</th>\n",
              "      <th>Weighted Rating</th>\n",
              "    </tr>\n",
              "  </thead>\n",
              "  <tbody>\n",
              "    <tr>\n",
              "      <th>178</th>\n",
              "      <td>Oh, the Places You'll Go!</td>\n",
              "      <td>Dr. Seuss</td>\n",
              "      <td>Fiction</td>\n",
              "      <td>4.9</td>\n",
              "      <td>21834.0</td>\n",
              "      <td>4.899524</td>\n",
              "    </tr>\n",
              "    <tr>\n",
              "      <th>116</th>\n",
              "      <td>Harry Potter and the Chamber of Secrets: The I...</td>\n",
              "      <td>J.K. Rowling</td>\n",
              "      <td>Fiction</td>\n",
              "      <td>4.9</td>\n",
              "      <td>19622.0</td>\n",
              "      <td>4.899470</td>\n",
              "    </tr>\n",
              "    <tr>\n",
              "      <th>140</th>\n",
              "      <td>Jesus Calling: Enjoying Peace in His Presence ...</td>\n",
              "      <td>Sarah Young</td>\n",
              "      <td>Non Fiction</td>\n",
              "      <td>4.9</td>\n",
              "      <td>19576.0</td>\n",
              "      <td>4.899469</td>\n",
              "    </tr>\n",
              "    <tr>\n",
              "      <th>310</th>\n",
              "      <td>The Very Hungry Caterpillar</td>\n",
              "      <td>Eric Carle</td>\n",
              "      <td>Fiction</td>\n",
              "      <td>4.9</td>\n",
              "      <td>19546.0</td>\n",
              "      <td>4.899468</td>\n",
              "    </tr>\n",
              "    <tr>\n",
              "      <th>36</th>\n",
              "      <td>Brown Bear, Brown Bear, What Do You See?</td>\n",
              "      <td>Bill Martin Jr.</td>\n",
              "      <td>Fiction</td>\n",
              "      <td>4.9</td>\n",
              "      <td>14344.0</td>\n",
              "      <td>4.899275</td>\n",
              "    </tr>\n",
              "    <tr>\n",
              "      <th>69</th>\n",
              "      <td>Dog Man: Fetch-22: From the Creator of Captain...</td>\n",
              "      <td>Dav Pilkey</td>\n",
              "      <td>Fiction</td>\n",
              "      <td>4.9</td>\n",
              "      <td>12619.0</td>\n",
              "      <td>4.899177</td>\n",
              "    </tr>\n",
              "    <tr>\n",
              "      <th>151</th>\n",
              "      <td>Last Week Tonight with John Oliver Presents A ...</td>\n",
              "      <td>Jill Twiss</td>\n",
              "      <td>Fiction</td>\n",
              "      <td>4.9</td>\n",
              "      <td>11881.0</td>\n",
              "      <td>4.899126</td>\n",
              "    </tr>\n",
              "    <tr>\n",
              "      <th>120</th>\n",
              "      <td>Harry Potter and the Sorcerer's Stone: The Ill...</td>\n",
              "      <td>J.K. Rowling</td>\n",
              "      <td>Fiction</td>\n",
              "      <td>4.9</td>\n",
              "      <td>10052.0</td>\n",
              "      <td>4.898967</td>\n",
              "    </tr>\n",
              "    <tr>\n",
              "      <th>349</th>\n",
              "      <td>Wrecking Ball (Diary of a Wimpy Kid Book 14)</td>\n",
              "      <td>Jeff Kinney</td>\n",
              "      <td>Fiction</td>\n",
              "      <td>4.9</td>\n",
              "      <td>9413.0</td>\n",
              "      <td>4.898897</td>\n",
              "    </tr>\n",
              "    <tr>\n",
              "      <th>208</th>\n",
              "      <td>Strange Planet (Strange Planet Series)</td>\n",
              "      <td>Nathan W. Pyle</td>\n",
              "      <td>Fiction</td>\n",
              "      <td>4.9</td>\n",
              "      <td>9382.0</td>\n",
              "      <td>4.898894</td>\n",
              "    </tr>\n",
              "  </tbody>\n",
              "</table>\n",
              "</div>"
            ],
            "text/plain": [
              "                                                  Name  ... Weighted Rating\n",
              "178                          Oh, the Places You'll Go!  ...        4.899524\n",
              "116  Harry Potter and the Chamber of Secrets: The I...  ...        4.899470\n",
              "140  Jesus Calling: Enjoying Peace in His Presence ...  ...        4.899469\n",
              "310                        The Very Hungry Caterpillar  ...        4.899468\n",
              "36            Brown Bear, Brown Bear, What Do You See?  ...        4.899275\n",
              "69   Dog Man: Fetch-22: From the Creator of Captain...  ...        4.899177\n",
              "151  Last Week Tonight with John Oliver Presents A ...  ...        4.899126\n",
              "120  Harry Potter and the Sorcerer's Stone: The Ill...  ...        4.898967\n",
              "349       Wrecking Ball (Diary of a Wimpy Kid Book 14)  ...        4.898897\n",
              "208             Strange Planet (Strange Planet Series)  ...        4.898894\n",
              "\n",
              "[10 rows x 6 columns]"
            ]
          },
          "metadata": {
            "tags": []
          },
          "execution_count": 125
        }
      ]
    },
    {
      "cell_type": "markdown",
      "metadata": {
        "id": "phsAhCwYIgHO"
      },
      "source": [
        "Embora várias linhas na coluna de classificação ponderada ainda possam ser arredondadas para 4.9, há uma diferença suficiente entre os vários livros para que eles possam ser classificados. À parte, nove dos dez melhores livros, de acordo com as classificações ponderadas, pertencem ao gênero de ficção. **Isso pode ser visto como um sinal do domínio do gênero de ficção nas classificações de classificação**. Agora, quanto ao gênero literário e seu peso nesta classificação ponderada, tem-se o seguinte:"
      ]
    },
    {
      "cell_type": "code",
      "metadata": {
        "colab": {
          "base_uri": "https://localhost:8080/"
        },
        "id": "gXGdReAgIvyH",
        "outputId": "a6ae8f6c-f56a-4811-cc8a-c14db9efabf0"
      },
      "source": [
        "df.groupby(['Genre'])['Weighted Rating'].mean()"
      ],
      "execution_count": 126,
      "outputs": [
        {
          "output_type": "execute_result",
          "data": {
            "text/plain": [
              "Genre\n",
              "Fiction        4.648178\n",
              "Non Fiction    4.595980\n",
              "Name: Weighted Rating, dtype: float64"
            ]
          },
          "metadata": {
            "tags": []
          },
          "execution_count": 126
        }
      ]
    },
    {
      "cell_type": "markdown",
      "metadata": {
        "id": "X3KA8CCHxLFQ"
      },
      "source": [
        "A magia da ciência de dados se fez presente! **Pela classificação ponderada, os livros de ficção passam a ter uma maior representatividade entre os mais vendidos.**"
      ]
    },
    {
      "cell_type": "markdown",
      "metadata": {
        "id": "sr8rhqmBfh_3"
      },
      "source": [
        "###Por preço dos livros"
      ]
    },
    {
      "cell_type": "markdown",
      "metadata": {
        "id": "xd4cLpa5fo8W"
      },
      "source": [
        "Agora, vamos ver como os padrões de preço dos livros nos 50 livros mais vendidos na Amazon influenciam nossa análise:"
      ]
    },
    {
      "cell_type": "code",
      "metadata": {
        "colab": {
          "base_uri": "https://localhost:8080/",
          "height": 343
        },
        "id": "LFoakU4xfkKX",
        "outputId": "6240eef7-a70c-484c-a55a-5acd3989a939"
      },
      "source": [
        "df.groupby(['Name', 'Author', 'Genre'], as_index=False)['Price'].mean().sort_values('Price', ascending=False).head(10)"
      ],
      "execution_count": 127,
      "outputs": [
        {
          "output_type": "execute_result",
          "data": {
            "text/html": [
              "<div>\n",
              "<style scoped>\n",
              "    .dataframe tbody tr th:only-of-type {\n",
              "        vertical-align: middle;\n",
              "    }\n",
              "\n",
              "    .dataframe tbody tr th {\n",
              "        vertical-align: top;\n",
              "    }\n",
              "\n",
              "    .dataframe thead th {\n",
              "        text-align: right;\n",
              "    }\n",
              "</style>\n",
              "<table border=\"1\" class=\"dataframe\">\n",
              "  <thead>\n",
              "    <tr style=\"text-align: right;\">\n",
              "      <th></th>\n",
              "      <th>Name</th>\n",
              "      <th>Author</th>\n",
              "      <th>Genre</th>\n",
              "      <th>Price</th>\n",
              "    </tr>\n",
              "  </thead>\n",
              "  <tbody>\n",
              "    <tr>\n",
              "      <th>56</th>\n",
              "      <td>Diagnostic and Statistical Manual of Mental Di...</td>\n",
              "      <td>American Psychiatric Association</td>\n",
              "      <td>Non Fiction</td>\n",
              "      <td>105.0</td>\n",
              "    </tr>\n",
              "    <tr>\n",
              "      <th>307</th>\n",
              "      <td>The Twilight Saga Collection</td>\n",
              "      <td>Stephenie Meyer</td>\n",
              "      <td>Fiction</td>\n",
              "      <td>82.0</td>\n",
              "    </tr>\n",
              "    <tr>\n",
              "      <th>112</th>\n",
              "      <td>Hamilton: The Revolution</td>\n",
              "      <td>Lin-Manuel Miranda</td>\n",
              "      <td>Non Fiction</td>\n",
              "      <td>54.0</td>\n",
              "    </tr>\n",
              "    <tr>\n",
              "      <th>228</th>\n",
              "      <td>The Book of Basketball: The NBA According to T...</td>\n",
              "      <td>Bill Simmons</td>\n",
              "      <td>Non Fiction</td>\n",
              "      <td>53.0</td>\n",
              "    </tr>\n",
              "    <tr>\n",
              "      <th>115</th>\n",
              "      <td>Harry Potter Paperback Box Set (Books 1-7)</td>\n",
              "      <td>J. K. Rowling</td>\n",
              "      <td>Fiction</td>\n",
              "      <td>52.0</td>\n",
              "    </tr>\n",
              "    <tr>\n",
              "      <th>191</th>\n",
              "      <td>Publication Manual of the American Psychologic...</td>\n",
              "      <td>American Psychological Association</td>\n",
              "      <td>Non Fiction</td>\n",
              "      <td>46.0</td>\n",
              "    </tr>\n",
              "    <tr>\n",
              "      <th>333</th>\n",
              "      <td>Watchmen</td>\n",
              "      <td>Alan Moore</td>\n",
              "      <td>Fiction</td>\n",
              "      <td>42.0</td>\n",
              "    </tr>\n",
              "    <tr>\n",
              "      <th>281</th>\n",
              "      <td>The Official SAT Study Guide</td>\n",
              "      <td>The College Board</td>\n",
              "      <td>Non Fiction</td>\n",
              "      <td>40.0</td>\n",
              "    </tr>\n",
              "    <tr>\n",
              "      <th>220</th>\n",
              "      <td>The Alchemist</td>\n",
              "      <td>Paulo Coelho</td>\n",
              "      <td>Fiction</td>\n",
              "      <td>39.0</td>\n",
              "    </tr>\n",
              "    <tr>\n",
              "      <th>282</th>\n",
              "      <td>The Official SAT Study Guide, 2016 Edition (Of...</td>\n",
              "      <td>The College Board</td>\n",
              "      <td>Non Fiction</td>\n",
              "      <td>36.0</td>\n",
              "    </tr>\n",
              "  </tbody>\n",
              "</table>\n",
              "</div>"
            ],
            "text/plain": [
              "                                                  Name  ...  Price\n",
              "56   Diagnostic and Statistical Manual of Mental Di...  ...  105.0\n",
              "307                       The Twilight Saga Collection  ...   82.0\n",
              "112                           Hamilton: The Revolution  ...   54.0\n",
              "228  The Book of Basketball: The NBA According to T...  ...   53.0\n",
              "115         Harry Potter Paperback Box Set (Books 1-7)  ...   52.0\n",
              "191  Publication Manual of the American Psychologic...  ...   46.0\n",
              "333                                           Watchmen  ...   42.0\n",
              "281                       The Official SAT Study Guide  ...   40.0\n",
              "220                                      The Alchemist  ...   39.0\n",
              "282  The Official SAT Study Guide, 2016 Edition (Of...  ...   36.0\n",
              "\n",
              "[10 rows x 4 columns]"
            ]
          },
          "metadata": {
            "tags": []
          },
          "execution_count": 127
        }
      ]
    },
    {
      "cell_type": "markdown",
      "metadata": {
        "id": "3gfQbGZRftYY"
      },
      "source": [
        "Existem 6 livros de não ficção entre os 10 bestsellers mais caros da Amazon. Olhando para as classificações, os livros de ficção no Top 5 são coleções ou combinações de uma série de livros, enquanto os livros de não ficção são textos instrucionais e educacionais. Ambos os gêneros têm preços caros devido ao seu tamanho maior (quantidade relativamente grande de páginas). Agora, quanto a classificação de gênero literário quanto ao preço médio dos livros, tem-se o seguinte:"
      ]
    },
    {
      "cell_type": "code",
      "metadata": {
        "colab": {
          "base_uri": "https://localhost:8080/",
          "height": 106
        },
        "id": "zpeSMcCbfyO2",
        "outputId": "fb687d95-253a-447b-bc23-c5a5adb4c509"
      },
      "source": [
        "df.groupby(['Genre'], as_index=False)['Price'].mean()"
      ],
      "execution_count": 128,
      "outputs": [
        {
          "output_type": "execute_result",
          "data": {
            "text/html": [
              "<div>\n",
              "<style scoped>\n",
              "    .dataframe tbody tr th:only-of-type {\n",
              "        vertical-align: middle;\n",
              "    }\n",
              "\n",
              "    .dataframe tbody tr th {\n",
              "        vertical-align: top;\n",
              "    }\n",
              "\n",
              "    .dataframe thead th {\n",
              "        text-align: right;\n",
              "    }\n",
              "</style>\n",
              "<table border=\"1\" class=\"dataframe\">\n",
              "  <thead>\n",
              "    <tr style=\"text-align: right;\">\n",
              "      <th></th>\n",
              "      <th>Genre</th>\n",
              "      <th>Price</th>\n",
              "    </tr>\n",
              "  </thead>\n",
              "  <tbody>\n",
              "    <tr>\n",
              "      <th>0</th>\n",
              "      <td>Fiction</td>\n",
              "      <td>10.850000</td>\n",
              "    </tr>\n",
              "    <tr>\n",
              "      <th>1</th>\n",
              "      <td>Non Fiction</td>\n",
              "      <td>14.841935</td>\n",
              "    </tr>\n",
              "  </tbody>\n",
              "</table>\n",
              "</div>"
            ],
            "text/plain": [
              "         Genre      Price\n",
              "0      Fiction  10.850000\n",
              "1  Non Fiction  14.841935"
            ]
          },
          "metadata": {
            "tags": []
          },
          "execution_count": 128
        }
      ]
    },
    {
      "cell_type": "markdown",
      "metadata": {
        "id": "SIcX79B7f5Cu"
      },
      "source": [
        "**Em média, as publicações de não ficção custam mais do que as de ficção**. Considerando que os livros didáticos para todas as profissões e campos do saber humano, biografias e outras publicações instrucionais se enquadram na não-ficção, percebe-se haver uma tendência definida para os livros de não-ficção custarem mais."
      ]
    },
    {
      "cell_type": "markdown",
      "metadata": {
        "id": "yABPDXElf8Yt"
      },
      "source": [
        "###Por quantidade de reviews"
      ]
    },
    {
      "cell_type": "markdown",
      "metadata": {
        "id": "G1saIn1agHoV"
      },
      "source": [
        "Vamos agora examinar os padrões das quantidades de resenhas de livros nas classificações dos mais vendidos:"
      ]
    },
    {
      "cell_type": "code",
      "metadata": {
        "colab": {
          "base_uri": "https://localhost:8080/",
          "height": 343
        },
        "id": "sYHk1LpOf0-4",
        "outputId": "d07e102e-fcb1-4eaf-9ebb-f3bf2ffaae7c"
      },
      "source": [
        "#Livros com mais resenhas\n",
        "df.groupby(['Author','Name', 'Genre'],as_index=False)[['Weighted Rating', 'Reviews']].mean().sort_values('Reviews', ascending=False).head(10)"
      ],
      "execution_count": 129,
      "outputs": [
        {
          "output_type": "execute_result",
          "data": {
            "text/html": [
              "<div>\n",
              "<style scoped>\n",
              "    .dataframe tbody tr th:only-of-type {\n",
              "        vertical-align: middle;\n",
              "    }\n",
              "\n",
              "    .dataframe tbody tr th {\n",
              "        vertical-align: top;\n",
              "    }\n",
              "\n",
              "    .dataframe thead th {\n",
              "        text-align: right;\n",
              "    }\n",
              "</style>\n",
              "<table border=\"1\" class=\"dataframe\">\n",
              "  <thead>\n",
              "    <tr style=\"text-align: right;\">\n",
              "      <th></th>\n",
              "      <th>Author</th>\n",
              "      <th>Name</th>\n",
              "      <th>Genre</th>\n",
              "      <th>Weighted Rating</th>\n",
              "      <th>Reviews</th>\n",
              "    </tr>\n",
              "  </thead>\n",
              "  <tbody>\n",
              "    <tr>\n",
              "      <th>87</th>\n",
              "      <td>Delia Owens</td>\n",
              "      <td>Where the Crawdads Sing</td>\n",
              "      <td>Fiction</td>\n",
              "      <td>4.799924</td>\n",
              "      <td>87841.0</td>\n",
              "    </tr>\n",
              "    <tr>\n",
              "      <th>243</th>\n",
              "      <td>Paula Hawkins</td>\n",
              "      <td>The Girl on the Train</td>\n",
              "      <td>Fiction</td>\n",
              "      <td>4.100241</td>\n",
              "      <td>79446.0</td>\n",
              "    </tr>\n",
              "    <tr>\n",
              "      <th>231</th>\n",
              "      <td>Michelle Obama</td>\n",
              "      <td>Becoming</td>\n",
              "      <td>Non Fiction</td>\n",
              "      <td>4.799890</td>\n",
              "      <td>61133.0</td>\n",
              "    </tr>\n",
              "    <tr>\n",
              "      <th>128</th>\n",
              "      <td>Gillian Flynn</td>\n",
              "      <td>Gone Girl</td>\n",
              "      <td>Fiction</td>\n",
              "      <td>4.000399</td>\n",
              "      <td>57271.0</td>\n",
              "    </tr>\n",
              "    <tr>\n",
              "      <th>182</th>\n",
              "      <td>John Green</td>\n",
              "      <td>The Fault in Our Stars</td>\n",
              "      <td>Fiction</td>\n",
              "      <td>4.699940</td>\n",
              "      <td>50482.0</td>\n",
              "    </tr>\n",
              "    <tr>\n",
              "      <th>200</th>\n",
              "      <td>Kristin Hannah</td>\n",
              "      <td>The Nightingale: A Novel</td>\n",
              "      <td>Fiction</td>\n",
              "      <td>4.799864</td>\n",
              "      <td>49288.0</td>\n",
              "    </tr>\n",
              "    <tr>\n",
              "      <th>100</th>\n",
              "      <td>E L James</td>\n",
              "      <td>Fifty Shades of Grey: Book One of the Fifty Sh...</td>\n",
              "      <td>Fiction</td>\n",
              "      <td>3.800640</td>\n",
              "      <td>47265.0</td>\n",
              "    </tr>\n",
              "    <tr>\n",
              "      <th>15</th>\n",
              "      <td>Andy Weir</td>\n",
              "      <td>The Martian</td>\n",
              "      <td>Fiction</td>\n",
              "      <td>4.699924</td>\n",
              "      <td>39459.0</td>\n",
              "    </tr>\n",
              "    <tr>\n",
              "      <th>21</th>\n",
              "      <td>Anthony Doerr</td>\n",
              "      <td>All the Light We Cannot See</td>\n",
              "      <td>Fiction</td>\n",
              "      <td>4.600019</td>\n",
              "      <td>36348.0</td>\n",
              "    </tr>\n",
              "    <tr>\n",
              "      <th>245</th>\n",
              "      <td>Paulo Coelho</td>\n",
              "      <td>The Alchemist</td>\n",
              "      <td>Fiction</td>\n",
              "      <td>4.699916</td>\n",
              "      <td>35799.0</td>\n",
              "    </tr>\n",
              "  </tbody>\n",
              "</table>\n",
              "</div>"
            ],
            "text/plain": [
              "             Author  ...  Reviews\n",
              "87      Delia Owens  ...  87841.0\n",
              "243   Paula Hawkins  ...  79446.0\n",
              "231  Michelle Obama  ...  61133.0\n",
              "128   Gillian Flynn  ...  57271.0\n",
              "182      John Green  ...  50482.0\n",
              "200  Kristin Hannah  ...  49288.0\n",
              "100       E L James  ...  47265.0\n",
              "15        Andy Weir  ...  39459.0\n",
              "21    Anthony Doerr  ...  36348.0\n",
              "245    Paulo Coelho  ...  35799.0\n",
              "\n",
              "[10 rows x 5 columns]"
            ]
          },
          "metadata": {
            "tags": []
          },
          "execution_count": 129
        }
      ]
    },
    {
      "cell_type": "markdown",
      "metadata": {
        "id": "kEZelHY5f3hO"
      },
      "source": [
        "Nove em cada dez livros dos bestsellers com mais críticas, em média, são do gênero ficção. Como esta classificação considera as resenhas médias, os livros de não ficção que podem não vir frequentemente em série não estão em desvantagem, no entanto, apenas Becoming de Michelle Obama aparece entre os de gênero de não ficção.\n",
        "\n",
        "É interessante observar esta distribuição no seguinte gráfico de dispersão:"
      ]
    },
    {
      "cell_type": "code",
      "metadata": {
        "colab": {
          "base_uri": "https://localhost:8080/",
          "height": 542
        },
        "id": "DtZYGFn6gRu_",
        "outputId": "0c69be14-db82-4510-ac0d-e3c2c94b8851"
      },
      "source": [
        "import plotly.offline as py\n",
        "import plotly.graph_objs as go\n",
        "\n",
        "dt = df.groupby(['Author','Name', 'Genre'],as_index=False)[['Weighted Rating', 'Reviews']].mean().sort_values('Reviews', ascending=False).head(10)\n",
        "fig = go.Figure(data=go.Scatter(\n",
        "    x=dt['Weighted Rating'],\n",
        "    y=dt['Reviews'],\n",
        "    mode='markers+text',\n",
        "    text=dt['Author'],\n",
        "    textposition='top center',\n",
        "    marker=dict(size=15,\n",
        "                color=np.random.randn(20),\n",
        "                colorscale='Viridis',\n",
        "                showscale=False\n",
        "                )\n",
        "))\n",
        "\n",
        "fig.update_layout(\n",
        "    title=\"Os 10 autores com mais resenhas e suas respectivas classificações ponderadas\",\n",
        "    xaxis_title=\"Classificação ponderada\",\n",
        "    yaxis_title=\"Resenhas\"\n",
        ")\n",
        "\n",
        "fig.show()"
      ],
      "execution_count": 130,
      "outputs": [
        {
          "output_type": "display_data",
          "data": {
            "text/html": [
              "<html>\n",
              "<head><meta charset=\"utf-8\" /></head>\n",
              "<body>\n",
              "    <div>\n",
              "            <script src=\"https://cdnjs.cloudflare.com/ajax/libs/mathjax/2.7.5/MathJax.js?config=TeX-AMS-MML_SVG\"></script><script type=\"text/javascript\">if (window.MathJax) {MathJax.Hub.Config({SVG: {font: \"STIX-Web\"}});}</script>\n",
              "                <script type=\"text/javascript\">window.PlotlyConfig = {MathJaxConfig: 'local'};</script>\n",
              "        <script src=\"https://cdn.plot.ly/plotly-latest.min.js\"></script>    \n",
              "            <div id=\"35990502-988f-40ab-ad8e-d3e83cb0c974\" class=\"plotly-graph-div\" style=\"height:525px; width:100%;\"></div>\n",
              "            <script type=\"text/javascript\">\n",
              "                \n",
              "                    window.PLOTLYENV=window.PLOTLYENV || {};\n",
              "                    \n",
              "                if (document.getElementById(\"35990502-988f-40ab-ad8e-d3e83cb0c974\")) {\n",
              "                    Plotly.newPlot(\n",
              "                        '35990502-988f-40ab-ad8e-d3e83cb0c974',\n",
              "                        [{\"marker\": {\"color\": [0.7107289817035659, 0.007515895874798358, 0.18898586101438658, -1.370685816653844, 0.9808854708392333, -0.18093525312921208, 0.6649055888160101, 0.531679790647655, 0.199322967252841, -1.2643629914694487, -1.657182142117447, -1.6000656211263147, 0.05966796219046917, 0.4800732942435824, -0.2670360751801137, 1.6424387046169107, 0.6391001002972071, 0.26290659519108406, -0.8982747043260882, -0.10931930007988835], \"colorscale\": [[0.0, \"#440154\"], [0.1111111111111111, \"#482878\"], [0.2222222222222222, \"#3e4989\"], [0.3333333333333333, \"#31688e\"], [0.4444444444444444, \"#26828e\"], [0.5555555555555556, \"#1f9e89\"], [0.6666666666666666, \"#35b779\"], [0.7777777777777778, \"#6ece58\"], [0.8888888888888888, \"#b5de2b\"], [1.0, \"#fde725\"]], \"showscale\": false, \"size\": 15}, \"mode\": \"markers+text\", \"text\": [\"Delia Owens\", \"Paula Hawkins\", \"Michelle Obama\", \"Gillian Flynn\", \"John Green\", \"Kristin Hannah\", \"E L James\", \"Andy Weir\", \"Anthony Doerr\", \"Paulo Coelho\"], \"textposition\": \"top center\", \"type\": \"scatter\", \"x\": [4.79992352414194, 4.100241302599869, 4.799890133309554, 4.000399236660597, 4.699940209714077, 4.799863749712021, 3.8006401305345534, 4.69992352275029, 4.600018674029007, 4.699915711980842], \"y\": [87841.0, 79446.0, 61133.0, 57271.0, 50482.0, 49288.0, 47265.0, 39459.0, 36348.0, 35799.0]}],\n",
              "                        {\"template\": {\"data\": {\"bar\": [{\"error_x\": {\"color\": \"#2a3f5f\"}, \"error_y\": {\"color\": \"#2a3f5f\"}, \"marker\": {\"line\": {\"color\": \"#E5ECF6\", \"width\": 0.5}}, \"type\": \"bar\"}], \"barpolar\": [{\"marker\": {\"line\": {\"color\": \"#E5ECF6\", \"width\": 0.5}}, \"type\": \"barpolar\"}], \"carpet\": [{\"aaxis\": {\"endlinecolor\": \"#2a3f5f\", \"gridcolor\": \"white\", \"linecolor\": \"white\", \"minorgridcolor\": \"white\", \"startlinecolor\": \"#2a3f5f\"}, \"baxis\": {\"endlinecolor\": \"#2a3f5f\", \"gridcolor\": \"white\", \"linecolor\": \"white\", \"minorgridcolor\": \"white\", \"startlinecolor\": \"#2a3f5f\"}, \"type\": \"carpet\"}], \"choropleth\": [{\"colorbar\": {\"outlinewidth\": 0, \"ticks\": \"\"}, \"type\": \"choropleth\"}], \"contour\": [{\"colorbar\": {\"outlinewidth\": 0, \"ticks\": \"\"}, \"colorscale\": [[0.0, \"#0d0887\"], [0.1111111111111111, \"#46039f\"], [0.2222222222222222, \"#7201a8\"], [0.3333333333333333, \"#9c179e\"], [0.4444444444444444, \"#bd3786\"], [0.5555555555555556, \"#d8576b\"], [0.6666666666666666, \"#ed7953\"], [0.7777777777777778, \"#fb9f3a\"], [0.8888888888888888, \"#fdca26\"], [1.0, \"#f0f921\"]], \"type\": \"contour\"}], \"contourcarpet\": [{\"colorbar\": {\"outlinewidth\": 0, \"ticks\": \"\"}, \"type\": \"contourcarpet\"}], \"heatmap\": [{\"colorbar\": {\"outlinewidth\": 0, \"ticks\": \"\"}, \"colorscale\": [[0.0, \"#0d0887\"], [0.1111111111111111, \"#46039f\"], [0.2222222222222222, \"#7201a8\"], [0.3333333333333333, \"#9c179e\"], [0.4444444444444444, \"#bd3786\"], [0.5555555555555556, \"#d8576b\"], [0.6666666666666666, \"#ed7953\"], [0.7777777777777778, \"#fb9f3a\"], [0.8888888888888888, \"#fdca26\"], [1.0, \"#f0f921\"]], \"type\": \"heatmap\"}], \"heatmapgl\": [{\"colorbar\": {\"outlinewidth\": 0, \"ticks\": \"\"}, \"colorscale\": [[0.0, \"#0d0887\"], [0.1111111111111111, \"#46039f\"], [0.2222222222222222, \"#7201a8\"], [0.3333333333333333, \"#9c179e\"], [0.4444444444444444, \"#bd3786\"], [0.5555555555555556, \"#d8576b\"], [0.6666666666666666, \"#ed7953\"], [0.7777777777777778, \"#fb9f3a\"], [0.8888888888888888, \"#fdca26\"], [1.0, \"#f0f921\"]], \"type\": \"heatmapgl\"}], \"histogram\": [{\"marker\": {\"colorbar\": {\"outlinewidth\": 0, \"ticks\": \"\"}}, \"type\": \"histogram\"}], \"histogram2d\": [{\"colorbar\": {\"outlinewidth\": 0, \"ticks\": \"\"}, \"colorscale\": [[0.0, \"#0d0887\"], [0.1111111111111111, \"#46039f\"], [0.2222222222222222, \"#7201a8\"], [0.3333333333333333, \"#9c179e\"], [0.4444444444444444, \"#bd3786\"], [0.5555555555555556, \"#d8576b\"], [0.6666666666666666, \"#ed7953\"], [0.7777777777777778, \"#fb9f3a\"], [0.8888888888888888, \"#fdca26\"], [1.0, \"#f0f921\"]], \"type\": \"histogram2d\"}], \"histogram2dcontour\": [{\"colorbar\": {\"outlinewidth\": 0, \"ticks\": \"\"}, \"colorscale\": [[0.0, \"#0d0887\"], [0.1111111111111111, \"#46039f\"], [0.2222222222222222, \"#7201a8\"], [0.3333333333333333, \"#9c179e\"], [0.4444444444444444, \"#bd3786\"], [0.5555555555555556, \"#d8576b\"], [0.6666666666666666, \"#ed7953\"], [0.7777777777777778, \"#fb9f3a\"], [0.8888888888888888, \"#fdca26\"], [1.0, \"#f0f921\"]], \"type\": \"histogram2dcontour\"}], \"mesh3d\": [{\"colorbar\": {\"outlinewidth\": 0, \"ticks\": \"\"}, \"type\": \"mesh3d\"}], \"parcoords\": [{\"line\": {\"colorbar\": {\"outlinewidth\": 0, \"ticks\": \"\"}}, \"type\": \"parcoords\"}], \"pie\": [{\"automargin\": true, \"type\": \"pie\"}], \"scatter\": [{\"marker\": {\"colorbar\": {\"outlinewidth\": 0, \"ticks\": \"\"}}, \"type\": \"scatter\"}], \"scatter3d\": [{\"line\": {\"colorbar\": {\"outlinewidth\": 0, \"ticks\": \"\"}}, \"marker\": {\"colorbar\": {\"outlinewidth\": 0, \"ticks\": \"\"}}, \"type\": \"scatter3d\"}], \"scattercarpet\": [{\"marker\": {\"colorbar\": {\"outlinewidth\": 0, \"ticks\": \"\"}}, \"type\": \"scattercarpet\"}], \"scattergeo\": [{\"marker\": {\"colorbar\": {\"outlinewidth\": 0, \"ticks\": \"\"}}, \"type\": \"scattergeo\"}], \"scattergl\": [{\"marker\": {\"colorbar\": {\"outlinewidth\": 0, \"ticks\": \"\"}}, \"type\": \"scattergl\"}], \"scattermapbox\": [{\"marker\": {\"colorbar\": {\"outlinewidth\": 0, \"ticks\": \"\"}}, \"type\": \"scattermapbox\"}], \"scatterpolar\": [{\"marker\": {\"colorbar\": {\"outlinewidth\": 0, \"ticks\": \"\"}}, \"type\": \"scatterpolar\"}], \"scatterpolargl\": [{\"marker\": {\"colorbar\": {\"outlinewidth\": 0, \"ticks\": \"\"}}, \"type\": \"scatterpolargl\"}], \"scatterternary\": [{\"marker\": {\"colorbar\": {\"outlinewidth\": 0, \"ticks\": \"\"}}, \"type\": \"scatterternary\"}], \"surface\": [{\"colorbar\": {\"outlinewidth\": 0, \"ticks\": \"\"}, \"colorscale\": [[0.0, \"#0d0887\"], [0.1111111111111111, \"#46039f\"], [0.2222222222222222, \"#7201a8\"], [0.3333333333333333, \"#9c179e\"], [0.4444444444444444, \"#bd3786\"], [0.5555555555555556, \"#d8576b\"], [0.6666666666666666, \"#ed7953\"], [0.7777777777777778, \"#fb9f3a\"], [0.8888888888888888, \"#fdca26\"], [1.0, \"#f0f921\"]], \"type\": \"surface\"}], \"table\": [{\"cells\": {\"fill\": {\"color\": \"#EBF0F8\"}, \"line\": {\"color\": \"white\"}}, \"header\": {\"fill\": {\"color\": \"#C8D4E3\"}, \"line\": {\"color\": \"white\"}}, \"type\": \"table\"}]}, \"layout\": {\"annotationdefaults\": {\"arrowcolor\": \"#2a3f5f\", \"arrowhead\": 0, \"arrowwidth\": 1}, \"coloraxis\": {\"colorbar\": {\"outlinewidth\": 0, \"ticks\": \"\"}}, \"colorscale\": {\"diverging\": [[0, \"#8e0152\"], [0.1, \"#c51b7d\"], [0.2, \"#de77ae\"], [0.3, \"#f1b6da\"], [0.4, \"#fde0ef\"], [0.5, \"#f7f7f7\"], [0.6, \"#e6f5d0\"], [0.7, \"#b8e186\"], [0.8, \"#7fbc41\"], [0.9, \"#4d9221\"], [1, \"#276419\"]], \"sequential\": [[0.0, \"#0d0887\"], [0.1111111111111111, \"#46039f\"], [0.2222222222222222, \"#7201a8\"], [0.3333333333333333, \"#9c179e\"], [0.4444444444444444, \"#bd3786\"], [0.5555555555555556, \"#d8576b\"], [0.6666666666666666, \"#ed7953\"], [0.7777777777777778, \"#fb9f3a\"], [0.8888888888888888, \"#fdca26\"], [1.0, \"#f0f921\"]], \"sequentialminus\": [[0.0, \"#0d0887\"], [0.1111111111111111, \"#46039f\"], [0.2222222222222222, \"#7201a8\"], [0.3333333333333333, \"#9c179e\"], [0.4444444444444444, \"#bd3786\"], [0.5555555555555556, \"#d8576b\"], [0.6666666666666666, \"#ed7953\"], [0.7777777777777778, \"#fb9f3a\"], [0.8888888888888888, \"#fdca26\"], [1.0, \"#f0f921\"]]}, \"colorway\": [\"#636efa\", \"#EF553B\", \"#00cc96\", \"#ab63fa\", \"#FFA15A\", \"#19d3f3\", \"#FF6692\", \"#B6E880\", \"#FF97FF\", \"#FECB52\"], \"font\": {\"color\": \"#2a3f5f\"}, \"geo\": {\"bgcolor\": \"white\", \"lakecolor\": \"white\", \"landcolor\": \"#E5ECF6\", \"showlakes\": true, \"showland\": true, \"subunitcolor\": \"white\"}, \"hoverlabel\": {\"align\": \"left\"}, \"hovermode\": \"closest\", \"mapbox\": {\"style\": \"light\"}, \"paper_bgcolor\": \"white\", \"plot_bgcolor\": \"#E5ECF6\", \"polar\": {\"angularaxis\": {\"gridcolor\": \"white\", \"linecolor\": \"white\", \"ticks\": \"\"}, \"bgcolor\": \"#E5ECF6\", \"radialaxis\": {\"gridcolor\": \"white\", \"linecolor\": \"white\", \"ticks\": \"\"}}, \"scene\": {\"xaxis\": {\"backgroundcolor\": \"#E5ECF6\", \"gridcolor\": \"white\", \"gridwidth\": 2, \"linecolor\": \"white\", \"showbackground\": true, \"ticks\": \"\", \"zerolinecolor\": \"white\"}, \"yaxis\": {\"backgroundcolor\": \"#E5ECF6\", \"gridcolor\": \"white\", \"gridwidth\": 2, \"linecolor\": \"white\", \"showbackground\": true, \"ticks\": \"\", \"zerolinecolor\": \"white\"}, \"zaxis\": {\"backgroundcolor\": \"#E5ECF6\", \"gridcolor\": \"white\", \"gridwidth\": 2, \"linecolor\": \"white\", \"showbackground\": true, \"ticks\": \"\", \"zerolinecolor\": \"white\"}}, \"shapedefaults\": {\"line\": {\"color\": \"#2a3f5f\"}}, \"ternary\": {\"aaxis\": {\"gridcolor\": \"white\", \"linecolor\": \"white\", \"ticks\": \"\"}, \"baxis\": {\"gridcolor\": \"white\", \"linecolor\": \"white\", \"ticks\": \"\"}, \"bgcolor\": \"#E5ECF6\", \"caxis\": {\"gridcolor\": \"white\", \"linecolor\": \"white\", \"ticks\": \"\"}}, \"title\": {\"x\": 0.05}, \"xaxis\": {\"automargin\": true, \"gridcolor\": \"white\", \"linecolor\": \"white\", \"ticks\": \"\", \"title\": {\"standoff\": 15}, \"zerolinecolor\": \"white\", \"zerolinewidth\": 2}, \"yaxis\": {\"automargin\": true, \"gridcolor\": \"white\", \"linecolor\": \"white\", \"ticks\": \"\", \"title\": {\"standoff\": 15}, \"zerolinecolor\": \"white\", \"zerolinewidth\": 2}}}, \"title\": {\"text\": \"Os 10 autores com mais resenhas e suas respectivas classifica\\u00e7\\u00f5es ponderadas\"}, \"xaxis\": {\"title\": {\"text\": \"Classifica\\u00e7\\u00e3o ponderada\"}}, \"yaxis\": {\"title\": {\"text\": \"Resenhas\"}}},\n",
              "                        {\"responsive\": true}\n",
              "                    ).then(function(){\n",
              "                            \n",
              "var gd = document.getElementById('35990502-988f-40ab-ad8e-d3e83cb0c974');\n",
              "var x = new MutationObserver(function (mutations, observer) {{\n",
              "        var display = window.getComputedStyle(gd).display;\n",
              "        if (!display || display === 'none') {{\n",
              "            console.log([gd, 'removed!']);\n",
              "            Plotly.purge(gd);\n",
              "            observer.disconnect();\n",
              "        }}\n",
              "}});\n",
              "\n",
              "// Listen for the removal of the full notebook cells\n",
              "var notebookContainer = gd.closest('#notebook-container');\n",
              "if (notebookContainer) {{\n",
              "    x.observe(notebookContainer, {childList: true});\n",
              "}}\n",
              "\n",
              "// Listen for the clearing of the current output cell\n",
              "var outputEl = gd.closest('.output');\n",
              "if (outputEl) {{\n",
              "    x.observe(outputEl, {childList: true});\n",
              "}}\n",
              "\n",
              "                        })\n",
              "                };\n",
              "                \n",
              "            </script>\n",
              "        </div>\n",
              "</body>\n",
              "</html>"
            ]
          },
          "metadata": {
            "tags": []
          }
        }
      ]
    },
    {
      "cell_type": "markdown",
      "metadata": {
        "id": "YPLB5MvSgUQ9"
      },
      "source": [
        "Agora, quanto a classificação de gênero literário em relação à quantidade de resenhas dos livros, tem-se o seguinte:"
      ]
    },
    {
      "cell_type": "code",
      "metadata": {
        "colab": {
          "base_uri": "https://localhost:8080/"
        },
        "id": "nuVukZfhgVfH",
        "outputId": "a071e449-bb6c-4e6d-80c3-4abc006fe89d"
      },
      "source": [
        "df.groupby(['Genre'])['Reviews'].mean()"
      ],
      "execution_count": 131,
      "outputs": [
        {
          "output_type": "execute_result",
          "data": {
            "text/plain": [
              "Genre\n",
              "Fiction        15683.791667\n",
              "Non Fiction     9065.145161\n",
              "Name: Reviews, dtype: float64"
            ]
          },
          "metadata": {
            "tags": []
          },
          "execution_count": 131
        }
      ]
    },
    {
      "cell_type": "markdown",
      "metadata": {
        "id": "z_sPp_7cgXu1"
      },
      "source": [
        "Em média, os livros de ficção acumulam mais resenhas do que seus equivalentes de não ficção, com uma lacuna relativamente grande entre os dois gêneros."
      ]
    },
    {
      "cell_type": "markdown",
      "metadata": {
        "id": "K7Qs6OkYgYfW"
      },
      "source": [
        "###Por tendência ao longo dos anos"
      ]
    },
    {
      "cell_type": "markdown",
      "metadata": {
        "id": "XLueT3_qgf_h"
      },
      "source": [
        "Examinaremos agora a tendência das resenhas, avaliações e preços dos livros na lista dos 50 mais vendidos da Amazon ao longo dos anos."
      ]
    },
    {
      "cell_type": "code",
      "metadata": {
        "colab": {
          "base_uri": "https://localhost:8080/",
          "height": 406
        },
        "id": "IRo5WzD5-4ux",
        "outputId": "daea5989-5967-4c29-94c7-ba7d950da9e2"
      },
      "source": [
        "genre_reviews = df.groupby([\"Genre\",\"Year\"],as_index=False)[\"Genre\",\"Reviews\"].mean()#,as_index=False\n",
        "plt.figure(figsize=(12,6))\n",
        "plt.style.use(\"seaborn-whitegrid\")\n",
        "sns.barplot(x =\"Year\",y=\"Reviews\",hue = \"Genre\",data = genre_reviews)\n",
        "plt.title(\"Número de resenhas médio por ano e gênero\",Fontsize=20)\n",
        "plt.show()"
      ],
      "execution_count": 132,
      "outputs": [
        {
          "output_type": "display_data",
          "data": {
            "image/png": "[encoded data removed]",
            "text/plain": [
              "<Figure size 864x432 with 1 Axes>"
            ]
          },
          "metadata": {
            "tags": [],
            "needs_background": "light"
          }
        }
      ]
    },
    {
      "cell_type": "markdown",
      "metadata": {
        "id": "Yj-H8FW6giTn"
      },
      "source": [
        "O número de resenhas de best-sellers da Amazon apresenta uma tendência média de aumento. As publicações de ficção se destacam nas resenhas em todos os anos, exceto 2018."
      ]
    },
    {
      "cell_type": "code",
      "metadata": {
        "id": "Jz8FWV0EgjE_",
        "colab": {
          "base_uri": "https://localhost:8080/",
          "height": 406
        },
        "outputId": "5c3e7b4a-70e2-480f-d861-d6c057bff4b0"
      },
      "source": [
        "price_reviews = df.groupby([\"Genre\",\"Year\"],as_index=False)[\"Genre\",\"Price\"].mean()#,as_index=False\n",
        "plt.figure(figsize=(12,6))\n",
        "plt.style.use(\"seaborn-whitegrid\")\n",
        "sns.barplot(x =\"Year\",y=\"Price\",hue='Genre',data = price_reviews)\n",
        "plt.title(\"Preço médio por ano e gênero\",Fontsize=20)\n",
        "plt.show()"
      ],
      "execution_count": 133,
      "outputs": [
        {
          "output_type": "display_data",
          "data": {
            "image/png": "[encoded data removed]",
            "text/plain": [
              "<Figure size 864x432 with 1 Axes>"
            ]
          },
          "metadata": {
            "tags": []
          }
        }
      ]
    },
    {
      "cell_type": "markdown",
      "metadata": {
        "id": "xtpSDno5glNX"
      },
      "source": [
        "O preço médio dos livros na lista dos mais vendidos da Amazon apresenta uma tendência de queda na última década, com uma mudança acentuada de 2014 a 2015. Livros de não ficção tiveram preços mais altos em média de 2010 para baixo, com 2009 sendo o único ano em que os livros de ficção são mais caro em média."
      ]
    },
    {
      "cell_type": "code",
      "metadata": {
        "id": "bafMjR3OgmFt",
        "colab": {
          "base_uri": "https://localhost:8080/",
          "height": 406
        },
        "outputId": "183069a2-51e0-4052-bbdb-5537b6c28fc3"
      },
      "source": [
        "ratings_reviews = df.groupby([\"Genre\",\"Year\"],as_index=False)[\"Genre\",\"User Rating\"].mean()#,as_index=False\n",
        "plt.figure(figsize=(12,6))\n",
        "plt.style.use(\"seaborn-whitegrid\")\n",
        "sns.barplot(x =\"Year\",y=\"User Rating\",hue='Genre',data = ratings_reviews)\n",
        "plt.title(\"Avaliação média por ano e gênero\",Fontsize=20)\n",
        "plt.show()"
      ],
      "execution_count": 134,
      "outputs": [
        {
          "output_type": "display_data",
          "data": {
            "image/png": "[encoded data removed]",
            "text/plain": [
              "<Figure size 864x432 with 1 Axes>"
            ]
          },
          "metadata": {
            "tags": []
          }
        }
      ]
    },
    {
      "cell_type": "markdown",
      "metadata": {
        "id": "1DjLSHV3goBV"
      },
      "source": [
        "As avaliações tiveram um ligeiro aumento em média de cerca de 0,2 e os livros de ficção se mostram mais bem classificados dos que o de não ficção, os quais tiveram uma classificação superior em 2012 e 2013."
      ]
    },
    {
      "cell_type": "markdown",
      "metadata": {
        "id": "R_QwvBgXgqCX"
      },
      "source": [
        "###Conclusão"
      ]
    },
    {
      "cell_type": "markdown",
      "metadata": {
        "id": "R2AGq7mCgsEl"
      },
      "source": [
        "Há mais livros de não ficção na lista dos mais vendidos ao longo dos anos e esses livros de não ficção são mais caros do que seus equivalentes, em média. No entanto, os livros de ficção são avaliados com mais frequência e têm uma classificação mais elevada, em média."
      ]
    },
    {
      "cell_type": "markdown",
      "metadata": {
        "id": "39nBI9fPfh84"
      },
      "source": [
        "##Sistema de recomendação de livros"
      ]
    },
    {
      "cell_type": "markdown",
      "metadata": {
        "id": "SCm4V0NwfkLR"
      },
      "source": [
        "O objetivo principal desta etapa é apenas fazer um sistema de recomendação. Para isso, vamos importar as bibliotecas que serão utilizadas neste processo e criar uma nova coluna de descrição para cada livro."
      ]
    },
    {
      "cell_type": "code",
      "metadata": {
        "id": "93akL0BQmxVO",
        "colab": {
          "base_uri": "https://localhost:8080/"
        },
        "outputId": "3668be44-ebca-45ef-b34d-30e6dd835258"
      },
      "source": [
        "#Importar bibliotecas necessárias\n",
        "import nltk\n",
        "nltk.download('stopwords')\n",
        "nltk.download('punkt')\n",
        "from nltk.corpus import stopwords \n",
        "from nltk.tokenize import word_tokenize \n",
        "from nltk.stem import WordNetLemmatizer "
      ],
      "execution_count": 135,
      "outputs": [
        {
          "output_type": "stream",
          "text": [
            "[nltk_data] Downloading package stopwords to /root/nltk_data...\n",
            "[nltk_data]   Package stopwords is already up-to-date!\n",
            "[nltk_data] Downloading package punkt to /root/nltk_data...\n",
            "[nltk_data]   Package punkt is already up-to-date!\n"
          ],
          "name": "stdout"
        }
      ]
    },
    {
      "cell_type": "markdown",
      "metadata": {
        "id": "1RJZzpHO0NO1"
      },
      "source": [
        "Adicionando descrições aos livros:"
      ]
    },
    {
      "cell_type": "code",
      "metadata": {
        "colab": {
          "base_uri": "https://localhost:8080/",
          "height": 296
        },
        "id": "PlXUzfY50OEs",
        "outputId": "f914a056-8068-4db4-a0bf-08d44ba51be2"
      },
      "source": [
        "data = df\n",
        "data['Description']=np.load('/content/Book_description.npy')\n",
        "data.head()"
      ],
      "execution_count": 136,
      "outputs": [
        {
          "output_type": "execute_result",
          "data": {
            "text/html": [
              "<div>\n",
              "<style scoped>\n",
              "    .dataframe tbody tr th:only-of-type {\n",
              "        vertical-align: middle;\n",
              "    }\n",
              "\n",
              "    .dataframe tbody tr th {\n",
              "        vertical-align: top;\n",
              "    }\n",
              "\n",
              "    .dataframe thead th {\n",
              "        text-align: right;\n",
              "    }\n",
              "</style>\n",
              "<table border=\"1\" class=\"dataframe\">\n",
              "  <thead>\n",
              "    <tr style=\"text-align: right;\">\n",
              "      <th></th>\n",
              "      <th>Name</th>\n",
              "      <th>Author</th>\n",
              "      <th>User Rating</th>\n",
              "      <th>Reviews</th>\n",
              "      <th>Price</th>\n",
              "      <th>Year</th>\n",
              "      <th>Genre</th>\n",
              "      <th>Weighted Rating</th>\n",
              "      <th>Description</th>\n",
              "    </tr>\n",
              "  </thead>\n",
              "  <tbody>\n",
              "    <tr>\n",
              "      <th>0</th>\n",
              "      <td>10-Day Green Smoothie Cleanse</td>\n",
              "      <td>JJ Smith</td>\n",
              "      <td>4.7</td>\n",
              "      <td>17350</td>\n",
              "      <td>8</td>\n",
              "      <td>2016</td>\n",
              "      <td>Non Fiction</td>\n",
              "      <td>4.699826</td>\n",
              "      <td>4.5/5 · Barnes &amp; Noble\\n4.8/5 · Walmart\\n4.7/5...</td>\n",
              "    </tr>\n",
              "    <tr>\n",
              "      <th>1</th>\n",
              "      <td>11/22/63: A Novel</td>\n",
              "      <td>Stephen King</td>\n",
              "      <td>4.6</td>\n",
              "      <td>2052</td>\n",
              "      <td>22</td>\n",
              "      <td>2011</td>\n",
              "      <td>Fiction</td>\n",
              "      <td>4.600325</td>\n",
              "      <td>11/22/63 is a novel by Stephen King about a ti...</td>\n",
              "    </tr>\n",
              "    <tr>\n",
              "      <th>2</th>\n",
              "      <td>12 Rules for Life: An Antidote to Chaos</td>\n",
              "      <td>Jordan B. Peterson</td>\n",
              "      <td>4.7</td>\n",
              "      <td>18979</td>\n",
              "      <td>15</td>\n",
              "      <td>2018</td>\n",
              "      <td>Non Fiction</td>\n",
              "      <td>4.699841</td>\n",
              "      <td>3.9/5 · Goodreads\\n4.9/5 · Barnes &amp; Noble\\n1/4...</td>\n",
              "    </tr>\n",
              "    <tr>\n",
              "      <th>3</th>\n",
              "      <td>1984 (Signet Classics)</td>\n",
              "      <td>George Orwell</td>\n",
              "      <td>4.7</td>\n",
              "      <td>21424</td>\n",
              "      <td>6</td>\n",
              "      <td>2017</td>\n",
              "      <td>Fiction</td>\n",
              "      <td>4.699859</td>\n",
              "      <td>Written more than 70 years ago, 1984 was Georg...</td>\n",
              "    </tr>\n",
              "    <tr>\n",
              "      <th>4</th>\n",
              "      <td>5,000 Awesome Facts (About Everything!) (Natio...</td>\n",
              "      <td>National Geographic Kids</td>\n",
              "      <td>4.8</td>\n",
              "      <td>7665</td>\n",
              "      <td>12</td>\n",
              "      <td>2019</td>\n",
              "      <td>Non Fiction</td>\n",
              "      <td>4.799127</td>\n",
              "      <td>Presenting the next must-have, fun-filled gift...</td>\n",
              "    </tr>\n",
              "  </tbody>\n",
              "</table>\n",
              "</div>"
            ],
            "text/plain": [
              "                                                Name  ...                                        Description\n",
              "0                      10-Day Green Smoothie Cleanse  ...  4.5/5 · Barnes & Noble\\n4.8/5 · Walmart\\n4.7/5...\n",
              "1                                  11/22/63: A Novel  ...  11/22/63 is a novel by Stephen King about a ti...\n",
              "2            12 Rules for Life: An Antidote to Chaos  ...  3.9/5 · Goodreads\\n4.9/5 · Barnes & Noble\\n1/4...\n",
              "3                             1984 (Signet Classics)  ...  Written more than 70 years ago, 1984 was Georg...\n",
              "4  5,000 Awesome Facts (About Everything!) (Natio...  ...  Presenting the next must-have, fun-filled gift...\n",
              "\n",
              "[5 rows x 9 columns]"
            ]
          },
          "metadata": {
            "tags": []
          },
          "execution_count": 136
        }
      ]
    },
    {
      "cell_type": "markdown",
      "metadata": {
        "id": "Ft7ZyEPGfs1h"
      },
      "source": [
        "Agora, vamos criar uma função para tokenizar os nomes dos livros e remover palavras irrelevantes."
      ]
    },
    {
      "cell_type": "code",
      "metadata": {
        "id": "jgd_Cwfkl33v"
      },
      "source": [
        "# Esta função é remover palavras irrelevantes de uma coluna específica e tokenizar\n",
        "def rem_stopwords_tokenize(data,name):\n",
        "      \n",
        "    def getting(sen):\n",
        "        example_sent = sen\n",
        "        stop_words = set(stopwords.words('english')) \n",
        "        word_tokens = word_tokenize(example_sent) \n",
        "        filtered_sentence = [w for w in word_tokens if not w in stop_words] \n",
        "        filtered_sentence = [] \n",
        "\n",
        "        for w in word_tokens: \n",
        "            if w not in stop_words: \n",
        "                filtered_sentence.append(w) \n",
        "        return filtered_sentence\n",
        "    x=[]\n",
        "    for i in data[name].values:\n",
        "        x.append(getting(i))\n",
        "    data[name]=x\n",
        "\n",
        "rem_stopwords_tokenize(data,'Description')"
      ],
      "execution_count": 137,
      "outputs": []
    },
    {
      "cell_type": "code",
      "metadata": {
        "colab": {
          "base_uri": "https://localhost:8080/"
        },
        "id": "s38nHgxwme7Y",
        "outputId": "9b674ca5-f29a-4ebd-b091-090d788d7448"
      },
      "source": [
        "# Fazendo uma função para lematizar todas as palavras\n",
        "nltk.download('wordnet')\n",
        "\n",
        "lemmatizer = WordNetLemmatizer() \n",
        "def lemmatize_all(data,name):\n",
        "    arr=data[name]\n",
        "    a=[]\n",
        "    for i in arr:\n",
        "        b=[]\n",
        "        for j in i:\n",
        "            x=lemmatizer.lemmatize(j,pos='a')\n",
        "            x=lemmatizer.lemmatize(x)\n",
        "            b.append(x)\n",
        "        a.append(b)\n",
        "    data[name]=a\n",
        "\n",
        "lemmatize_all(data,'Description')"
      ],
      "execution_count": 138,
      "outputs": [
        {
          "output_type": "stream",
          "text": [
            "[nltk_data] Downloading package wordnet to /root/nltk_data...\n",
            "[nltk_data]   Package wordnet is already up-to-date!\n"
          ],
          "name": "stdout"
        }
      ]
    },
    {
      "cell_type": "markdown",
      "metadata": {
        "id": "J3QDSyo-npLG"
      },
      "source": [
        "Dando uma olhada nos dados atualizados:"
      ]
    },
    {
      "cell_type": "code",
      "metadata": {
        "colab": {
          "base_uri": "https://localhost:8080/"
        },
        "id": "G93NVnROns5e",
        "outputId": "44129777-87ef-43f3-a989-f28eb6c96361"
      },
      "source": [
        "data['Description'].head()"
      ],
      "execution_count": 139,
      "outputs": [
        {
          "output_type": "execute_result",
          "data": {
            "text/plain": [
              "0    [4.5/5, ·, Barnes, &, Noble, 4.8/5, ·, Walmart...\n",
              "1    [11/22/63, novel, Stephen, King, time, travele...\n",
              "2    [3.9/5, ·, Goodreads, 4.9/5, ·, Barnes, &, Nob...\n",
              "3    [Written, 70, year, ago, ,, 1984, George, Orwe...\n",
              "4    [Presenting, next, must-have, ,, fun-filled, g...\n",
              "Name: Description, dtype: object"
            ]
          },
          "metadata": {
            "tags": []
          },
          "execution_count": 139
        }
      ]
    },
    {
      "cell_type": "markdown",
      "metadata": {
        "id": "kveEn5CCn65O"
      },
      "source": [
        "Finalmente, vamos confeccionar uma função para definir a recomendação:"
      ]
    },
    {
      "cell_type": "code",
      "metadata": {
        "id": "TzEfreMtugzd"
      },
      "source": [
        "def set_rec_finder(na,number):\n",
        "    def intersection(lst1, lst2): \n",
        "        return list(set(lst1) & set(lst2)) \n",
        "    def find_rec(name):\n",
        "        x=list(data[data['Name']==name]['Description'].values)[0]\n",
        "        score=[]\n",
        "        for i in range(len(data)):\n",
        "            score.append([len(intersection(x,data['Description'].values[i])),\n",
        "                          data['Name'].values[i]])\n",
        "        return score\n",
        "    recommendations=find_rec(na)\n",
        "    recommendations.sort(reverse=True)\n",
        "    recommendations=np.array(recommendations)\n",
        "    ans=recommendations[:number,1]\n",
        "    for i in ans:\n",
        "        print(i)"
      ],
      "execution_count": 140,
      "outputs": []
    },
    {
      "cell_type": "markdown",
      "metadata": {
        "id": "SCIe5iwXDgcS"
      },
      "source": [
        "Vamos testar:"
      ]
    },
    {
      "cell_type": "code",
      "metadata": {
        "colab": {
          "base_uri": "https://localhost:8080/"
        },
        "id": "pMPuwbm1DiBA",
        "outputId": "ccdbfc5f-d1e0-40e2-c6ff-16699ddc6335"
      },
      "source": [
        "set_rec_finder('The Casual Vacancy',10)"
      ],
      "execution_count": 144,
      "outputs": [
        {
          "output_type": "stream",
          "text": [
            "The Casual Vacancy\n",
            "The Mark of Athena (Heroes of Olympus, Book 3)\n",
            "Little Fires Everywhere\n",
            "Winter of the World: Book Two of the Century Trilogy\n",
            "The Martian\n",
            "The Lost Symbol\n",
            "The Four Agreements: A Practical Guide to Personal Freedom (A Toltec Wisdom Book)\n",
            "Old School (Diary of a Wimpy Kid #10)\n",
            "Killing Jesus (Bill O'Reilly's Killing Series)\n",
            "Harry Potter and the Cursed Child, Parts 1 & 2, Special Rehearsal Edition Script\n"
          ],
          "name": "stdout"
        }
      ]
    }
  ]
}